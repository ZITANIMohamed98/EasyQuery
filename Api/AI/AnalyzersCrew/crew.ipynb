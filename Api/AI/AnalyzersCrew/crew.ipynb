{
 "cells": [
  {
   "cell_type": "code",
   "execution_count": 2,
   "id": "3e8120e5",
   "metadata": {},
   "outputs": [
    {
     "data": {
      "text/plain": [
       "'<col0> Player : text <col1> No. : text <col2> Nationality : text <col3> Position : text <col4> Years in Toronto : text <col5> School/Club Team : text'"
      ]
     },
     "execution_count": 2,
     "metadata": {},
     "output_type": "execute_result"
    }
   ],
   "source": [
    "header = ['Player', 'No.', 'Nationality', 'Position', 'Years in Toronto', 'School/Club Team']\n",
    "header_column_types = ['text', 'text', 'text', 'text', 'text', 'text']\n",
    "\n",
    "# Generate the schema string with incrementing <colX> tags\n",
    "schema_parts = [\n",
    "    f\"<col{i}> {col} : {col_type}\"\n",
    "    for i, (col, col_type) in enumerate(zip(header, header_column_types))\n",
    "]\n",
    "schema_str = \" \".join(schema_parts)\n",
    "\n",
    "schema_str"
   ]
  }
 ],
 "metadata": {
  "kernelspec": {
   "display_name": "base",
   "language": "python",
   "name": "python3"
  },
  "language_info": {
   "codemirror_mode": {
    "name": "ipython",
    "version": 3
   },
   "file_extension": ".py",
   "mimetype": "text/x-python",
   "name": "python",
   "nbconvert_exporter": "python",
   "pygments_lexer": "ipython3",
   "version": "3.12.7"
  }
 },
 "nbformat": 4,
 "nbformat_minor": 5
}
