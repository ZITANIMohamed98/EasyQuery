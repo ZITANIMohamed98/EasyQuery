{
 "cells": [
  {
   "cell_type": "code",
   "execution_count": null,
   "id": "e89eb8f1",
   "metadata": {},
   "outputs": [],
   "source": [
    "# inbound.py\n",
    "from fastapi import APIRouter, HTTPException\n",
    "from pydantic import BaseModel, constr\n",
    "import os\n",
    "#from outbound import call_predict_sql, call_sqltools\n",
    "from dotenv import load_dotenv\n",
    "#from AI.TexttoSqlAgent.models import getQueryModel, predictQueryModel, responseQueryModel\n",
    "import uuid\n",
    "# from ..AI.SqltoTextAgent.inference import text_to_sql\n",
    "\n",
    "load_dotenv()\n",
    "\n",
    "\n",
    "USE_MOCKS = os.getenv(\"USE_MOCKS\", \"false\").lower() == \"true\"\n",
    "\n",
    "\n",
    "\n",
    "# --- ROUTER (to podmieni “app”) ---\n",
    "router = APIRouter()\n",
    "\n"
   ]
  },
  {
   "cell_type": "code",
   "execution_count": 41,
   "id": "bf80f91b",
   "metadata": {},
   "outputs": [],
   "source": [
    "class getQueryModel:\n",
    "    \n",
    "    # constructor to initialize the object with default values\n",
    "    def __init__(self, user_id=None, activity_id=None, database_name='default_db', input=''):\n",
    "        self.user_id = user_id if user_id else str(uuid.uuid4())  # Generate a new UUID for user_id if not provided\n",
    "        self.activity_id = activity_id if activity_id else str(uuid.uuid4())  # Generate a new UUID for activity_id if not provided\n",
    "        self.database_name = database_name  # Use provided database name or default to 'default_db'\n",
    "        self.input = input  # Use provided input or default to an empty string"
   ]
  },
  {
   "cell_type": "code",
   "execution_count": null,
   "id": "1d69e9a5",
   "metadata": {},
   "outputs": [],
   "source": [
    "test = getQueryModel(\n",
    "    \"tetet\",\"63536725-2b3c-4f8d-9f1e-0a1b2c3d4e5f\",\n",
    "    'test_db',\n",
    "    'SELECT * FROM test_table'\n",
    ")"
   ]
  },
  {
   "cell_type": "code",
   "execution_count": null,
   "id": "8f2dff67",
   "metadata": {},
   "outputs": [
    {
     "name": "stdout",
     "output_type": "stream",
     "text": [
      "^C\n"
     ]
    }
   ],
   "source": []
  },
  {
   "cell_type": "code",
   "execution_count": 43,
   "id": "ed81f7b0",
   "metadata": {},
   "outputs": [
    {
     "ename": "FastAPIError",
     "evalue": "Invalid args for response field! Hint: check that <__main__.getQueryModel object at 0x00000228BF3BE6F0> is a valid Pydantic field type. If you are using a return type annotation that is not a valid Pydantic field (e.g. Union[Response, dict, None]) you can disable generating the response model from the type annotation with the path operation decorator parameter response_model=None. Read more: https://fastapi.tiangolo.com/tutorial/response-model/",
     "output_type": "error",
     "traceback": [
      "\u001b[31m---------------------------------------------------------------------------\u001b[39m",
      "\u001b[31mFastAPIError\u001b[39m                              Traceback (most recent call last)",
      "\u001b[36mCell\u001b[39m\u001b[36m \u001b[39m\u001b[32mIn[43]\u001b[39m\u001b[32m, line 1\u001b[39m\n\u001b[32m----> \u001b[39m\u001b[32m1\u001b[39m \u001b[38;5;129;43m@router\u001b[39;49m\u001b[43m.\u001b[49m\u001b[43mpost\u001b[49m\u001b[43m(\u001b[49m\u001b[33;43m\"\u001b[39;49m\u001b[33;43m/getQuery\u001b[39;49m\u001b[33;43m\"\u001b[39;49m\u001b[43m)\u001b[49m\n\u001b[32m      2\u001b[39m \u001b[38;5;28;43;01mdef\u001b[39;49;00m\u001b[38;5;250;43m \u001b[39;49m\u001b[34;43mget_query\u001b[39;49m\u001b[43m(\u001b[49m\u001b[43mrequest\u001b[49m\u001b[43m:\u001b[49m\u001b[43m \u001b[49m\u001b[43mtest\u001b[49m\u001b[43m)\u001b[49m\u001b[43m:\u001b[49m\n\u001b[32m      3\u001b[39m \u001b[43m   \u001b[49m\u001b[38;5;28;43;01masync\u001b[39;49;00m\u001b[43m \u001b[49m\u001b[38;5;28;43;01mdef\u001b[39;49;00m\u001b[38;5;250;43m \u001b[39;49m\u001b[34;43mget_dummy\u001b[39;49m\u001b[43m(\u001b[49m\u001b[43mrequest\u001b[49m\u001b[43m:\u001b[49m\u001b[43m \u001b[49m\u001b[43mRequest\u001b[49m\u001b[43m)\u001b[49m\u001b[43m:\u001b[49m\n\u001b[32m      4\u001b[39m \u001b[43m    \u001b[49m\u001b[43mdata\u001b[49m\u001b[43m \u001b[49m\u001b[43m=\u001b[49m\u001b[43m \u001b[49m\u001b[38;5;28;43;01mawait\u001b[39;49;00m\u001b[43m \u001b[49m\u001b[43mrequest\u001b[49m\u001b[43m.\u001b[49m\u001b[43mjson\u001b[49m\u001b[43m(\u001b[49m\u001b[43m)\u001b[49m\n",
      "\u001b[36mFile \u001b[39m\u001b[32mc:\\ProgramData\\anaconda3\\Lib\\site-packages\\fastapi\\routing.py:994\u001b[39m, in \u001b[36mAPIRouter.api_route.<locals>.decorator\u001b[39m\u001b[34m(func)\u001b[39m\n\u001b[32m    993\u001b[39m \u001b[38;5;28;01mdef\u001b[39;00m\u001b[38;5;250m \u001b[39m\u001b[34mdecorator\u001b[39m(func: DecoratedCallable) -> DecoratedCallable:\n\u001b[32m--> \u001b[39m\u001b[32m994\u001b[39m     \u001b[38;5;28;43mself\u001b[39;49m\u001b[43m.\u001b[49m\u001b[43madd_api_route\u001b[49m\u001b[43m(\u001b[49m\n\u001b[32m    995\u001b[39m \u001b[43m        \u001b[49m\u001b[43mpath\u001b[49m\u001b[43m,\u001b[49m\n\u001b[32m    996\u001b[39m \u001b[43m        \u001b[49m\u001b[43mfunc\u001b[49m\u001b[43m,\u001b[49m\n\u001b[32m    997\u001b[39m \u001b[43m        \u001b[49m\u001b[43mresponse_model\u001b[49m\u001b[43m=\u001b[49m\u001b[43mresponse_model\u001b[49m\u001b[43m,\u001b[49m\n\u001b[32m    998\u001b[39m \u001b[43m        \u001b[49m\u001b[43mstatus_code\u001b[49m\u001b[43m=\u001b[49m\u001b[43mstatus_code\u001b[49m\u001b[43m,\u001b[49m\n\u001b[32m    999\u001b[39m \u001b[43m        \u001b[49m\u001b[43mtags\u001b[49m\u001b[43m=\u001b[49m\u001b[43mtags\u001b[49m\u001b[43m,\u001b[49m\n\u001b[32m   1000\u001b[39m \u001b[43m        \u001b[49m\u001b[43mdependencies\u001b[49m\u001b[43m=\u001b[49m\u001b[43mdependencies\u001b[49m\u001b[43m,\u001b[49m\n\u001b[32m   1001\u001b[39m \u001b[43m        \u001b[49m\u001b[43msummary\u001b[49m\u001b[43m=\u001b[49m\u001b[43msummary\u001b[49m\u001b[43m,\u001b[49m\n\u001b[32m   1002\u001b[39m \u001b[43m        \u001b[49m\u001b[43mdescription\u001b[49m\u001b[43m=\u001b[49m\u001b[43mdescription\u001b[49m\u001b[43m,\u001b[49m\n\u001b[32m   1003\u001b[39m \u001b[43m        \u001b[49m\u001b[43mresponse_description\u001b[49m\u001b[43m=\u001b[49m\u001b[43mresponse_description\u001b[49m\u001b[43m,\u001b[49m\n\u001b[32m   1004\u001b[39m \u001b[43m        \u001b[49m\u001b[43mresponses\u001b[49m\u001b[43m=\u001b[49m\u001b[43mresponses\u001b[49m\u001b[43m,\u001b[49m\n\u001b[32m   1005\u001b[39m \u001b[43m        \u001b[49m\u001b[43mdeprecated\u001b[49m\u001b[43m=\u001b[49m\u001b[43mdeprecated\u001b[49m\u001b[43m,\u001b[49m\n\u001b[32m   1006\u001b[39m \u001b[43m        \u001b[49m\u001b[43mmethods\u001b[49m\u001b[43m=\u001b[49m\u001b[43mmethods\u001b[49m\u001b[43m,\u001b[49m\n\u001b[32m   1007\u001b[39m \u001b[43m        \u001b[49m\u001b[43moperation_id\u001b[49m\u001b[43m=\u001b[49m\u001b[43moperation_id\u001b[49m\u001b[43m,\u001b[49m\n\u001b[32m   1008\u001b[39m \u001b[43m        \u001b[49m\u001b[43mresponse_model_include\u001b[49m\u001b[43m=\u001b[49m\u001b[43mresponse_model_include\u001b[49m\u001b[43m,\u001b[49m\n\u001b[32m   1009\u001b[39m \u001b[43m        \u001b[49m\u001b[43mresponse_model_exclude\u001b[49m\u001b[43m=\u001b[49m\u001b[43mresponse_model_exclude\u001b[49m\u001b[43m,\u001b[49m\n\u001b[32m   1010\u001b[39m \u001b[43m        \u001b[49m\u001b[43mresponse_model_by_alias\u001b[49m\u001b[43m=\u001b[49m\u001b[43mresponse_model_by_alias\u001b[49m\u001b[43m,\u001b[49m\n\u001b[32m   1011\u001b[39m \u001b[43m        \u001b[49m\u001b[43mresponse_model_exclude_unset\u001b[49m\u001b[43m=\u001b[49m\u001b[43mresponse_model_exclude_unset\u001b[49m\u001b[43m,\u001b[49m\n\u001b[32m   1012\u001b[39m \u001b[43m        \u001b[49m\u001b[43mresponse_model_exclude_defaults\u001b[49m\u001b[43m=\u001b[49m\u001b[43mresponse_model_exclude_defaults\u001b[49m\u001b[43m,\u001b[49m\n\u001b[32m   1013\u001b[39m \u001b[43m        \u001b[49m\u001b[43mresponse_model_exclude_none\u001b[49m\u001b[43m=\u001b[49m\u001b[43mresponse_model_exclude_none\u001b[49m\u001b[43m,\u001b[49m\n\u001b[32m   1014\u001b[39m \u001b[43m        \u001b[49m\u001b[43minclude_in_schema\u001b[49m\u001b[43m=\u001b[49m\u001b[43minclude_in_schema\u001b[49m\u001b[43m,\u001b[49m\n\u001b[32m   1015\u001b[39m \u001b[43m        \u001b[49m\u001b[43mresponse_class\u001b[49m\u001b[43m=\u001b[49m\u001b[43mresponse_class\u001b[49m\u001b[43m,\u001b[49m\n\u001b[32m   1016\u001b[39m \u001b[43m        \u001b[49m\u001b[43mname\u001b[49m\u001b[43m=\u001b[49m\u001b[43mname\u001b[49m\u001b[43m,\u001b[49m\n\u001b[32m   1017\u001b[39m \u001b[43m        \u001b[49m\u001b[43mcallbacks\u001b[49m\u001b[43m=\u001b[49m\u001b[43mcallbacks\u001b[49m\u001b[43m,\u001b[49m\n\u001b[32m   1018\u001b[39m \u001b[43m        \u001b[49m\u001b[43mopenapi_extra\u001b[49m\u001b[43m=\u001b[49m\u001b[43mopenapi_extra\u001b[49m\u001b[43m,\u001b[49m\n\u001b[32m   1019\u001b[39m \u001b[43m        \u001b[49m\u001b[43mgenerate_unique_id_function\u001b[49m\u001b[43m=\u001b[49m\u001b[43mgenerate_unique_id_function\u001b[49m\u001b[43m,\u001b[49m\n\u001b[32m   1020\u001b[39m \u001b[43m    \u001b[49m\u001b[43m)\u001b[49m\n\u001b[32m   1021\u001b[39m     \u001b[38;5;28;01mreturn\u001b[39;00m func\n",
      "\u001b[36mFile \u001b[39m\u001b[32mc:\\ProgramData\\anaconda3\\Lib\\site-packages\\fastapi\\routing.py:933\u001b[39m, in \u001b[36mAPIRouter.add_api_route\u001b[39m\u001b[34m(self, path, endpoint, response_model, status_code, tags, dependencies, summary, description, response_description, responses, deprecated, methods, operation_id, response_model_include, response_model_exclude, response_model_by_alias, response_model_exclude_unset, response_model_exclude_defaults, response_model_exclude_none, include_in_schema, response_class, name, route_class_override, callbacks, openapi_extra, generate_unique_id_function)\u001b[39m\n\u001b[32m    929\u001b[39m     current_callbacks.extend(callbacks)\n\u001b[32m    930\u001b[39m current_generate_unique_id = get_value_or_default(\n\u001b[32m    931\u001b[39m     generate_unique_id_function, \u001b[38;5;28mself\u001b[39m.generate_unique_id_function\n\u001b[32m    932\u001b[39m )\n\u001b[32m--> \u001b[39m\u001b[32m933\u001b[39m route = \u001b[43mroute_class\u001b[49m\u001b[43m(\u001b[49m\n\u001b[32m    934\u001b[39m \u001b[43m    \u001b[49m\u001b[38;5;28;43mself\u001b[39;49m\u001b[43m.\u001b[49m\u001b[43mprefix\u001b[49m\u001b[43m \u001b[49m\u001b[43m+\u001b[49m\u001b[43m \u001b[49m\u001b[43mpath\u001b[49m\u001b[43m,\u001b[49m\n\u001b[32m    935\u001b[39m \u001b[43m    \u001b[49m\u001b[43mendpoint\u001b[49m\u001b[43m=\u001b[49m\u001b[43mendpoint\u001b[49m\u001b[43m,\u001b[49m\n\u001b[32m    936\u001b[39m \u001b[43m    \u001b[49m\u001b[43mresponse_model\u001b[49m\u001b[43m=\u001b[49m\u001b[43mresponse_model\u001b[49m\u001b[43m,\u001b[49m\n\u001b[32m    937\u001b[39m \u001b[43m    \u001b[49m\u001b[43mstatus_code\u001b[49m\u001b[43m=\u001b[49m\u001b[43mstatus_code\u001b[49m\u001b[43m,\u001b[49m\n\u001b[32m    938\u001b[39m \u001b[43m    \u001b[49m\u001b[43mtags\u001b[49m\u001b[43m=\u001b[49m\u001b[43mcurrent_tags\u001b[49m\u001b[43m,\u001b[49m\n\u001b[32m    939\u001b[39m \u001b[43m    \u001b[49m\u001b[43mdependencies\u001b[49m\u001b[43m=\u001b[49m\u001b[43mcurrent_dependencies\u001b[49m\u001b[43m,\u001b[49m\n\u001b[32m    940\u001b[39m \u001b[43m    \u001b[49m\u001b[43msummary\u001b[49m\u001b[43m=\u001b[49m\u001b[43msummary\u001b[49m\u001b[43m,\u001b[49m\n\u001b[32m    941\u001b[39m \u001b[43m    \u001b[49m\u001b[43mdescription\u001b[49m\u001b[43m=\u001b[49m\u001b[43mdescription\u001b[49m\u001b[43m,\u001b[49m\n\u001b[32m    942\u001b[39m \u001b[43m    \u001b[49m\u001b[43mresponse_description\u001b[49m\u001b[43m=\u001b[49m\u001b[43mresponse_description\u001b[49m\u001b[43m,\u001b[49m\n\u001b[32m    943\u001b[39m \u001b[43m    \u001b[49m\u001b[43mresponses\u001b[49m\u001b[43m=\u001b[49m\u001b[43mcombined_responses\u001b[49m\u001b[43m,\u001b[49m\n\u001b[32m    944\u001b[39m \u001b[43m    \u001b[49m\u001b[43mdeprecated\u001b[49m\u001b[43m=\u001b[49m\u001b[43mdeprecated\u001b[49m\u001b[43m \u001b[49m\u001b[38;5;129;43;01mor\u001b[39;49;00m\u001b[43m \u001b[49m\u001b[38;5;28;43mself\u001b[39;49m\u001b[43m.\u001b[49m\u001b[43mdeprecated\u001b[49m\u001b[43m,\u001b[49m\n\u001b[32m    945\u001b[39m \u001b[43m    \u001b[49m\u001b[43mmethods\u001b[49m\u001b[43m=\u001b[49m\u001b[43mmethods\u001b[49m\u001b[43m,\u001b[49m\n\u001b[32m    946\u001b[39m \u001b[43m    \u001b[49m\u001b[43moperation_id\u001b[49m\u001b[43m=\u001b[49m\u001b[43moperation_id\u001b[49m\u001b[43m,\u001b[49m\n\u001b[32m    947\u001b[39m \u001b[43m    \u001b[49m\u001b[43mresponse_model_include\u001b[49m\u001b[43m=\u001b[49m\u001b[43mresponse_model_include\u001b[49m\u001b[43m,\u001b[49m\n\u001b[32m    948\u001b[39m \u001b[43m    \u001b[49m\u001b[43mresponse_model_exclude\u001b[49m\u001b[43m=\u001b[49m\u001b[43mresponse_model_exclude\u001b[49m\u001b[43m,\u001b[49m\n\u001b[32m    949\u001b[39m \u001b[43m    \u001b[49m\u001b[43mresponse_model_by_alias\u001b[49m\u001b[43m=\u001b[49m\u001b[43mresponse_model_by_alias\u001b[49m\u001b[43m,\u001b[49m\n\u001b[32m    950\u001b[39m \u001b[43m    \u001b[49m\u001b[43mresponse_model_exclude_unset\u001b[49m\u001b[43m=\u001b[49m\u001b[43mresponse_model_exclude_unset\u001b[49m\u001b[43m,\u001b[49m\n\u001b[32m    951\u001b[39m \u001b[43m    \u001b[49m\u001b[43mresponse_model_exclude_defaults\u001b[49m\u001b[43m=\u001b[49m\u001b[43mresponse_model_exclude_defaults\u001b[49m\u001b[43m,\u001b[49m\n\u001b[32m    952\u001b[39m \u001b[43m    \u001b[49m\u001b[43mresponse_model_exclude_none\u001b[49m\u001b[43m=\u001b[49m\u001b[43mresponse_model_exclude_none\u001b[49m\u001b[43m,\u001b[49m\n\u001b[32m    953\u001b[39m \u001b[43m    \u001b[49m\u001b[43minclude_in_schema\u001b[49m\u001b[43m=\u001b[49m\u001b[43minclude_in_schema\u001b[49m\u001b[43m \u001b[49m\u001b[38;5;129;43;01mand\u001b[39;49;00m\u001b[43m \u001b[49m\u001b[38;5;28;43mself\u001b[39;49m\u001b[43m.\u001b[49m\u001b[43minclude_in_schema\u001b[49m\u001b[43m,\u001b[49m\n\u001b[32m    954\u001b[39m \u001b[43m    \u001b[49m\u001b[43mresponse_class\u001b[49m\u001b[43m=\u001b[49m\u001b[43mcurrent_response_class\u001b[49m\u001b[43m,\u001b[49m\n\u001b[32m    955\u001b[39m \u001b[43m    \u001b[49m\u001b[43mname\u001b[49m\u001b[43m=\u001b[49m\u001b[43mname\u001b[49m\u001b[43m,\u001b[49m\n\u001b[32m    956\u001b[39m \u001b[43m    \u001b[49m\u001b[43mdependency_overrides_provider\u001b[49m\u001b[43m=\u001b[49m\u001b[38;5;28;43mself\u001b[39;49m\u001b[43m.\u001b[49m\u001b[43mdependency_overrides_provider\u001b[49m\u001b[43m,\u001b[49m\n\u001b[32m    957\u001b[39m \u001b[43m    \u001b[49m\u001b[43mcallbacks\u001b[49m\u001b[43m=\u001b[49m\u001b[43mcurrent_callbacks\u001b[49m\u001b[43m,\u001b[49m\n\u001b[32m    958\u001b[39m \u001b[43m    \u001b[49m\u001b[43mopenapi_extra\u001b[49m\u001b[43m=\u001b[49m\u001b[43mopenapi_extra\u001b[49m\u001b[43m,\u001b[49m\n\u001b[32m    959\u001b[39m \u001b[43m    \u001b[49m\u001b[43mgenerate_unique_id_function\u001b[49m\u001b[43m=\u001b[49m\u001b[43mcurrent_generate_unique_id\u001b[49m\u001b[43m,\u001b[49m\n\u001b[32m    960\u001b[39m \u001b[43m\u001b[49m\u001b[43m)\u001b[49m\n\u001b[32m    961\u001b[39m \u001b[38;5;28mself\u001b[39m.routes.append(route)\n",
      "\u001b[36mFile \u001b[39m\u001b[32mc:\\ProgramData\\anaconda3\\Lib\\site-packages\\fastapi\\routing.py:554\u001b[39m, in \u001b[36mAPIRoute.__init__\u001b[39m\u001b[34m(self, path, endpoint, response_model, status_code, tags, dependencies, summary, description, response_description, responses, deprecated, name, methods, operation_id, response_model_include, response_model_exclude, response_model_by_alias, response_model_exclude_unset, response_model_exclude_defaults, response_model_exclude_none, include_in_schema, response_class, dependency_overrides_provider, callbacks, openapi_extra, generate_unique_id_function)\u001b[39m\n\u001b[32m    551\u001b[39m     \u001b[38;5;28mself\u001b[39m.response_fields = {}\n\u001b[32m    553\u001b[39m \u001b[38;5;28;01massert\u001b[39;00m \u001b[38;5;28mcallable\u001b[39m(endpoint), \u001b[33m\"\u001b[39m\u001b[33mAn endpoint must be a callable\u001b[39m\u001b[33m\"\u001b[39m\n\u001b[32m--> \u001b[39m\u001b[32m554\u001b[39m \u001b[38;5;28mself\u001b[39m.dependant = \u001b[43mget_dependant\u001b[49m\u001b[43m(\u001b[49m\u001b[43mpath\u001b[49m\u001b[43m=\u001b[49m\u001b[38;5;28;43mself\u001b[39;49m\u001b[43m.\u001b[49m\u001b[43mpath_format\u001b[49m\u001b[43m,\u001b[49m\u001b[43m \u001b[49m\u001b[43mcall\u001b[49m\u001b[43m=\u001b[49m\u001b[38;5;28;43mself\u001b[39;49m\u001b[43m.\u001b[49m\u001b[43mendpoint\u001b[49m\u001b[43m)\u001b[49m\n\u001b[32m    555\u001b[39m \u001b[38;5;28;01mfor\u001b[39;00m depends \u001b[38;5;129;01min\u001b[39;00m \u001b[38;5;28mself\u001b[39m.dependencies[::-\u001b[32m1\u001b[39m]:\n\u001b[32m    556\u001b[39m     \u001b[38;5;28mself\u001b[39m.dependant.dependencies.insert(\n\u001b[32m    557\u001b[39m         \u001b[32m0\u001b[39m,\n\u001b[32m    558\u001b[39m         get_parameterless_sub_dependant(depends=depends, path=\u001b[38;5;28mself\u001b[39m.path_format),\n\u001b[32m    559\u001b[39m     )\n",
      "\u001b[36mFile \u001b[39m\u001b[32mc:\\ProgramData\\anaconda3\\Lib\\site-packages\\fastapi\\dependencies\\utils.py:285\u001b[39m, in \u001b[36mget_dependant\u001b[39m\u001b[34m(path, call, name, security_scopes, use_cache)\u001b[39m\n\u001b[32m    283\u001b[39m \u001b[38;5;28;01mfor\u001b[39;00m param_name, param \u001b[38;5;129;01min\u001b[39;00m signature_params.items():\n\u001b[32m    284\u001b[39m     is_path_param = param_name \u001b[38;5;129;01min\u001b[39;00m path_param_names\n\u001b[32m--> \u001b[39m\u001b[32m285\u001b[39m     param_details = \u001b[43manalyze_param\u001b[49m\u001b[43m(\u001b[49m\n\u001b[32m    286\u001b[39m \u001b[43m        \u001b[49m\u001b[43mparam_name\u001b[49m\u001b[43m=\u001b[49m\u001b[43mparam_name\u001b[49m\u001b[43m,\u001b[49m\n\u001b[32m    287\u001b[39m \u001b[43m        \u001b[49m\u001b[43mannotation\u001b[49m\u001b[43m=\u001b[49m\u001b[43mparam\u001b[49m\u001b[43m.\u001b[49m\u001b[43mannotation\u001b[49m\u001b[43m,\u001b[49m\n\u001b[32m    288\u001b[39m \u001b[43m        \u001b[49m\u001b[43mvalue\u001b[49m\u001b[43m=\u001b[49m\u001b[43mparam\u001b[49m\u001b[43m.\u001b[49m\u001b[43mdefault\u001b[49m\u001b[43m,\u001b[49m\n\u001b[32m    289\u001b[39m \u001b[43m        \u001b[49m\u001b[43mis_path_param\u001b[49m\u001b[43m=\u001b[49m\u001b[43mis_path_param\u001b[49m\u001b[43m,\u001b[49m\n\u001b[32m    290\u001b[39m \u001b[43m    \u001b[49m\u001b[43m)\u001b[49m\n\u001b[32m    291\u001b[39m     \u001b[38;5;28;01mif\u001b[39;00m param_details.depends \u001b[38;5;129;01mis\u001b[39;00m \u001b[38;5;129;01mnot\u001b[39;00m \u001b[38;5;28;01mNone\u001b[39;00m:\n\u001b[32m    292\u001b[39m         sub_dependant = get_param_sub_dependant(\n\u001b[32m    293\u001b[39m             param_name=param_name,\n\u001b[32m    294\u001b[39m             depends=param_details.depends,\n\u001b[32m    295\u001b[39m             path=path,\n\u001b[32m    296\u001b[39m             security_scopes=security_scopes,\n\u001b[32m    297\u001b[39m         )\n",
      "\u001b[36mFile \u001b[39m\u001b[32mc:\\ProgramData\\anaconda3\\Lib\\site-packages\\fastapi\\dependencies\\utils.py:488\u001b[39m, in \u001b[36manalyze_param\u001b[39m\u001b[34m(param_name, annotation, value, is_path_param)\u001b[39m\n\u001b[32m    486\u001b[39m     alias = field_info.alias \u001b[38;5;129;01mor\u001b[39;00m param_name\n\u001b[32m    487\u001b[39m field_info.alias = alias\n\u001b[32m--> \u001b[39m\u001b[32m488\u001b[39m field = \u001b[43mcreate_model_field\u001b[49m\u001b[43m(\u001b[49m\n\u001b[32m    489\u001b[39m \u001b[43m    \u001b[49m\u001b[43mname\u001b[49m\u001b[43m=\u001b[49m\u001b[43mparam_name\u001b[49m\u001b[43m,\u001b[49m\n\u001b[32m    490\u001b[39m \u001b[43m    \u001b[49m\u001b[43mtype_\u001b[49m\u001b[43m=\u001b[49m\u001b[43muse_annotation_from_field_info\u001b[49m\u001b[43m,\u001b[49m\n\u001b[32m    491\u001b[39m \u001b[43m    \u001b[49m\u001b[43mdefault\u001b[49m\u001b[43m=\u001b[49m\u001b[43mfield_info\u001b[49m\u001b[43m.\u001b[49m\u001b[43mdefault\u001b[49m\u001b[43m,\u001b[49m\n\u001b[32m    492\u001b[39m \u001b[43m    \u001b[49m\u001b[43malias\u001b[49m\u001b[43m=\u001b[49m\u001b[43malias\u001b[49m\u001b[43m,\u001b[49m\n\u001b[32m    493\u001b[39m \u001b[43m    \u001b[49m\u001b[43mrequired\u001b[49m\u001b[43m=\u001b[49m\u001b[43mfield_info\u001b[49m\u001b[43m.\u001b[49m\u001b[43mdefault\u001b[49m\u001b[43m \u001b[49m\u001b[38;5;129;43;01min\u001b[39;49;00m\u001b[43m \u001b[49m\u001b[43m(\u001b[49m\u001b[43mRequiredParam\u001b[49m\u001b[43m,\u001b[49m\u001b[43m \u001b[49m\u001b[43mUndefined\u001b[49m\u001b[43m)\u001b[49m\u001b[43m,\u001b[49m\n\u001b[32m    494\u001b[39m \u001b[43m    \u001b[49m\u001b[43mfield_info\u001b[49m\u001b[43m=\u001b[49m\u001b[43mfield_info\u001b[49m\u001b[43m,\u001b[49m\n\u001b[32m    495\u001b[39m \u001b[43m\u001b[49m\u001b[43m)\u001b[49m\n\u001b[32m    496\u001b[39m \u001b[38;5;28;01mif\u001b[39;00m is_path_param:\n\u001b[32m    497\u001b[39m     \u001b[38;5;28;01massert\u001b[39;00m is_scalar_field(\n\u001b[32m    498\u001b[39m         field=field\n\u001b[32m    499\u001b[39m     ), \u001b[33m\"\u001b[39m\u001b[33mPath params must be of one of the supported types\u001b[39m\u001b[33m\"\u001b[39m\n",
      "\u001b[36mFile \u001b[39m\u001b[32mc:\\ProgramData\\anaconda3\\Lib\\site-packages\\fastapi\\utils.py:98\u001b[39m, in \u001b[36mcreate_model_field\u001b[39m\u001b[34m(name, type_, class_validators, default, required, model_config, field_info, alias, mode)\u001b[39m\n\u001b[32m     96\u001b[39m     \u001b[38;5;28;01mreturn\u001b[39;00m ModelField(**kwargs)  \u001b[38;5;66;03m# type: ignore[arg-type]\u001b[39;00m\n\u001b[32m     97\u001b[39m \u001b[38;5;28;01mexcept\u001b[39;00m (\u001b[38;5;167;01mRuntimeError\u001b[39;00m, PydanticSchemaGenerationError):\n\u001b[32m---> \u001b[39m\u001b[32m98\u001b[39m     \u001b[38;5;28;01mraise\u001b[39;00m fastapi.exceptions.FastAPIError(\n\u001b[32m     99\u001b[39m         \u001b[33m\"\u001b[39m\u001b[33mInvalid args for response field! Hint: \u001b[39m\u001b[33m\"\u001b[39m\n\u001b[32m    100\u001b[39m         \u001b[33mf\u001b[39m\u001b[33m\"\u001b[39m\u001b[33mcheck that \u001b[39m\u001b[38;5;132;01m{\u001b[39;00mtype_\u001b[38;5;132;01m}\u001b[39;00m\u001b[33m is a valid Pydantic field type. \u001b[39m\u001b[33m\"\u001b[39m\n\u001b[32m    101\u001b[39m         \u001b[33m\"\u001b[39m\u001b[33mIf you are using a return type annotation that is not a valid Pydantic \u001b[39m\u001b[33m\"\u001b[39m\n\u001b[32m    102\u001b[39m         \u001b[33m\"\u001b[39m\u001b[33mfield (e.g. Union[Response, dict, None]) you can disable generating the \u001b[39m\u001b[33m\"\u001b[39m\n\u001b[32m    103\u001b[39m         \u001b[33m\"\u001b[39m\u001b[33mresponse model from the type annotation with the path operation decorator \u001b[39m\u001b[33m\"\u001b[39m\n\u001b[32m    104\u001b[39m         \u001b[33m\"\u001b[39m\u001b[33mparameter response_model=None. Read more: \u001b[39m\u001b[33m\"\u001b[39m\n\u001b[32m    105\u001b[39m         \u001b[33m\"\u001b[39m\u001b[33mhttps://fastapi.tiangolo.com/tutorial/response-model/\u001b[39m\u001b[33m\"\u001b[39m\n\u001b[32m    106\u001b[39m     ) \u001b[38;5;28;01mfrom\u001b[39;00m\u001b[38;5;250m \u001b[39m\u001b[38;5;28;01mNone\u001b[39;00m\n",
      "\u001b[31mFastAPIError\u001b[39m: Invalid args for response field! Hint: check that <__main__.getQueryModel object at 0x00000228BF3BE6F0> is a valid Pydantic field type. If you are using a return type annotation that is not a valid Pydantic field (e.g. Union[Response, dict, None]) you can disable generating the response model from the type annotation with the path operation decorator parameter response_model=None. Read more: https://fastapi.tiangolo.com/tutorial/response-model/"
     ]
    }
   ],
   "source": [
    "@router.post(\"/getQuery\")\n",
    "def get_query(request: test):\n",
    "   async def get_dummy(request: Request):\n",
    "    data = await request.json()\n",
    "    # deserialize the data into the getQueryModel\n",
    "    input_data = getQueryModel(**data)\n",
    "    # Call the text_to_sql function to generate the SQL query\n",
    "    sql_query = text_to_sql(input_data)"
   ]
  }
 ],
 "metadata": {
  "kernelspec": {
   "display_name": "base",
   "language": "python",
   "name": "python3"
  },
  "language_info": {
   "codemirror_mode": {
    "name": "ipython",
    "version": 3
   },
   "file_extension": ".py",
   "mimetype": "text/x-python",
   "name": "python",
   "nbconvert_exporter": "python",
   "pygments_lexer": "ipython3",
   "version": "3.12.7"
  }
 },
 "nbformat": 4,
 "nbformat_minor": 5
}
