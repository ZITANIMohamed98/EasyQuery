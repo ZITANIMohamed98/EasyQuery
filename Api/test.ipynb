{
 "cells": [
  {
   "cell_type": "code",
   "execution_count": 15,
   "id": "e89eb8f1",
   "metadata": {},
   "outputs": [
    {
     "ename": "ImportError",
     "evalue": "attempted relative import with no known parent package",
     "output_type": "error",
     "traceback": [
      "\u001b[31m---------------------------------------------------------------------------\u001b[39m",
      "\u001b[31mImportError\u001b[39m                               Traceback (most recent call last)",
      "\u001b[36mCell\u001b[39m\u001b[36m \u001b[39m\u001b[32mIn[15]\u001b[39m\u001b[32m, line 7\u001b[39m\n\u001b[32m      5\u001b[39m \u001b[38;5;66;03m#from outbound import call_predict_sql, call_sqltools\u001b[39;00m\n\u001b[32m      6\u001b[39m \u001b[38;5;28;01mfrom\u001b[39;00m\u001b[38;5;250m \u001b[39m\u001b[34;01mdotenv\u001b[39;00m\u001b[38;5;250m \u001b[39m\u001b[38;5;28;01mimport\u001b[39;00m load_dotenv\n\u001b[32m----> \u001b[39m\u001b[32m7\u001b[39m \u001b[38;5;28;01mfrom\u001b[39;00m\u001b[38;5;250m \u001b[39m\u001b[34;01m.\u001b[39;00m\u001b[34;01mAI\u001b[39;00m\u001b[34;01m.\u001b[39;00m\u001b[34;01mSqltoTextAgent\u001b[39;00m\u001b[34;01m.\u001b[39;00m\u001b[34;01minference\u001b[39;00m\u001b[34;01m.\u001b[39;00m\u001b[34;01mModels\u001b[39;00m\u001b[38;5;250m \u001b[39m\u001b[38;5;28;01mimport\u001b[39;00m str_uuid\n\u001b[32m      9\u001b[39m \u001b[38;5;66;03m# from ..AI.SqltoTextAgent.inference import text_to_sql\u001b[39;00m\n\u001b[32m     11\u001b[39m load_dotenv()\n",
      "\u001b[31mImportError\u001b[39m: attempted relative import with no known parent package"
     ]
    }
   ],
   "source": [
    "# inbound.py\n",
    "from fastapi import APIRouter, HTTPException\n",
    "from pydantic import BaseModel, constr\n",
    "import os\n",
    "#from outbound import call_predict_sql, call_sqltools\n",
    "from dotenv import load_dotenv\n",
    "from .AI.SqltoTextAgent.inference.Models import str_uuid\n",
    "\n",
    "# from ..AI.SqltoTextAgent.inference import text_to_sql\n",
    "\n",
    "load_dotenv()\n",
    "\n",
    "\n",
    "USE_MOCKS = os.getenv(\"USE_MOCKS\", \"false\").lower() == \"true\"\n",
    "\n",
    "\n",
    "\n",
    "# --- ROUTER (to podmieni “app”) ---\n",
    "router = APIRouter()"
   ]
  },
  {
   "cell_type": "code",
   "execution_count": null,
   "id": "ed81f7b0",
   "metadata": {},
   "outputs": [],
   "source": [
    "@router.post(\"/getQuery\")\n",
    "def get_query(request: Request):\n",
    "   async def get_dummy(request: Request):\n",
    "    data = await request.json()\n",
    "    # deserialize the data into the getQueryModel\n",
    "    input_data = getQueryModel(**data)\n",
    "    # Call the text_to_sql function to generate the SQL query\n",
    "    sql_query = text_to_sql(input_data)"
   ]
  }
 ],
 "metadata": {
  "kernelspec": {
   "display_name": "base",
   "language": "python",
   "name": "python3"
  },
  "language_info": {
   "codemirror_mode": {
    "name": "ipython",
    "version": 3
   },
   "file_extension": ".py",
   "mimetype": "text/x-python",
   "name": "python",
   "nbconvert_exporter": "python",
   "pygments_lexer": "ipython3",
   "version": "3.12.7"
  }
 },
 "nbformat": 4,
 "nbformat_minor": 5
}
